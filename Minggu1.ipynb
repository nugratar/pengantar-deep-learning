{
  "nbformat": 4,
  "nbformat_minor": 0,
  "metadata": {
    "colab": {
      "name": "Minggu1.ipynb",
      "provenance": [],
      "collapsed_sections": [],
      "authorship_tag": "ABX9TyM1nDtr5ly60/RStKVZH6oB",
      "include_colab_link": true
    },
    "kernelspec": {
      "name": "python3",
      "display_name": "Python 3"
    },
    "language_info": {
      "name": "python"
    }
  },
  "cells": [
    {
      "cell_type": "markdown",
      "metadata": {
        "id": "view-in-github",
        "colab_type": "text"
      },
      "source": [
        "<a href=\"https://colab.research.google.com/github/nugratar/pengantar-deep-learning/blob/main/Minggu1.ipynb\" target=\"_parent\"><img src=\"https://colab.research.google.com/assets/colab-badge.svg\" alt=\"Open In Colab\"/></a>"
      ]
    },
    {
      "cell_type": "markdown",
      "source": [
        "# **Tugas Minggu 1 Deep Learning**\n",
        "\n",
        "---\n",
        "\n",
        "\n",
        "Nama: Anugrah Lestari\n",
        "\n",
        "NIM: H071191059"
      ],
      "metadata": {
        "id": "rfrYTiAYjrQI"
      }
    },
    {
      "cell_type": "markdown",
      "source": [
        "## **Penulisan Statement Python**"
      ],
      "metadata": {
        "id": "pOuCQCB-wCbn"
      }
    },
    {
      "cell_type": "code",
      "source": [
        "print(\"Hello World!\")\n",
        "print(\"Belajar Python\")"
      ],
      "metadata": {
        "colab": {
          "base_uri": "https://localhost:8080/"
        },
        "id": "i4-MWKXXjvsB",
        "outputId": "2b01c0ce-bfd8-41b1-dc67-aa4060ad9262"
      },
      "execution_count": 1,
      "outputs": [
        {
          "output_type": "stream",
          "name": "stdout",
          "text": [
            "Hello World!\n",
            "Belajar Python\n"
          ]
        }
      ]
    },
    {
      "cell_type": "markdown",
      "source": [
        "## **Penulisan komentar**\n",
        "*   Komentar merupakan baris kode yang tidak akan dieksekusi.\n",
        "*   Komentar digunakan untuk memberikan informasi tambahan dan untuk menonaktifkan kode."
      ],
      "metadata": {
        "id": "JbJ9rN-cx3dF"
      }
    },
    {
      "cell_type": "markdown",
      "source": [
        "**Tanda Pagar (#)**"
      ],
      "metadata": {
        "id": "9D384d8eyH2c"
      }
    },
    {
      "cell_type": "code",
      "source": [
        "# ini adalah komentar\n",
        "# Ini juga komentar"
      ],
      "metadata": {
        "id": "AEKRZZ0MyNUd"
      },
      "execution_count": 2,
      "outputs": []
    },
    {
      "cell_type": "markdown",
      "source": [
        "**Triple Tanda Petik**"
      ],
      "metadata": {
        "id": "raS1fUBkySrh"
      }
    },
    {
      "cell_type": "code",
      "source": [
        "class Pagar:\n",
        "    \"\"\"kelas pagar untuk membuat objek pagar. \"\"\"\n",
        "    def __init__(self, warna, tinggi, bahan):\n",
        "        self.warna = warna\n",
        "        self.tinggi = tinggi\n",
        "        self.bahan = bahan\n",
        "\n",
        "input('\\ntekan [enter] untuk melihat bantuan (dokumentasi) kelas: ')\n",
        "help(Pagar) # untuk melihat dokumentasi kelas"
      ],
      "metadata": {
        "colab": {
          "base_uri": "https://localhost:8080/"
        },
        "id": "WTPL1JcryOTI",
        "outputId": "388a39eb-d01a-4cbf-8cb4-9fa1707384d2"
      },
      "execution_count": 3,
      "outputs": [
        {
          "output_type": "stream",
          "name": "stdout",
          "text": [
            "\n",
            "tekan [enter] untuk melihat bantuan (dokumentasi) kelas: \n",
            "Help on class Pagar in module __main__:\n",
            "\n",
            "class Pagar(builtins.object)\n",
            " |  Pagar(warna, tinggi, bahan)\n",
            " |  \n",
            " |  kelas pagar untuk membuat objek pagar.\n",
            " |  \n",
            " |  Methods defined here:\n",
            " |  \n",
            " |  __init__(self, warna, tinggi, bahan)\n",
            " |      Initialize self.  See help(type(self)) for accurate signature.\n",
            " |  \n",
            " |  ----------------------------------------------------------------------\n",
            " |  Data descriptors defined here:\n",
            " |  \n",
            " |  __dict__\n",
            " |      dictionary for instance variables (if defined)\n",
            " |  \n",
            " |  __weakref__\n",
            " |      list of weak references to the object (if defined)\n",
            "\n"
          ]
        }
      ]
    },
    {
      "cell_type": "markdown",
      "source": [
        "## **Tipe Data**"
      ],
      "metadata": {
        "id": "HRoHRq_cxL2C"
      }
    },
    {
      "cell_type": "markdown",
      "source": [
        "### **1. Tipe Data Angka**\n",
        "Tipe data angka dibagi menjadi beberapa jenis:\n",
        "\n",
        "*   int (Integer): bilangan bulat, contoh 32, 22, 12, 10, dsb.\n",
        "*   float: bilangan pecahan, contoh 1.3, 4.2, 22.3, dsb."
      ],
      "metadata": {
        "id": "wqfSvSToxVD3"
      }
    },
    {
      "cell_type": "code",
      "source": [
        "harga = 12000 #tipe int\n",
        "berat = 23.12 #float\n",
        "jarak = 3e3 #float 3000.0, huruf e artinya eksponen 10"
      ],
      "metadata": {
        "id": "eiW70ahGxbLu"
      },
      "execution_count": 4,
      "outputs": []
    },
    {
      "cell_type": "markdown",
      "source": [
        "### **2. Tipe Data Teks**\n",
        "Tipe data teks dibagi menjadi dua jenis:\n",
        "*   Char: Karakter, contoh 'R'.\n",
        "*   String: Kumpulan karakter, contoh \"aku lagi makan\".\n",
        "\n",
        "Penulisan tipe data teks harus diapit dengan tanda petik. Bisa menggunakan petik tunggal ('...'), ganda (\"...\"), dan tiga ('''...''' atau \"\"\"...\"\"\")."
      ],
      "metadata": {
        "id": "C7KbvTSTzKYu"
      }
    },
    {
      "cell_type": "code",
      "source": [
        "mata_kuliah = \"Pengantar Deep Learning\"\n",
        "kode = '18H07121903'\n",
        "jumlah_sks = '3'\n",
        "jadwal = \"\"\"\n",
        "    Senin,\n",
        "    13:10 - 15:40 \n",
        "\"\"\""
      ],
      "metadata": {
        "id": "D_ubioOEzJ00"
      },
      "execution_count": 5,
      "outputs": []
    },
    {
      "cell_type": "markdown",
      "source": [
        "### **3. Tipe data boolean**\n",
        "Tipe data boolean adalah tipe data yang hanya memiliki dua nilai yaitu True dan False atau 0 dan 1."
      ],
      "metadata": {
        "id": "7Ceb9sPX1W4R"
      }
    },
    {
      "cell_type": "code",
      "source": [
        "bergerak = True\n",
        "nyala = 1 #sebenarnya tipenya int, tapi bisa juga menjadi boolean"
      ],
      "metadata": {
        "id": "1j5vmYZi1WIB"
      },
      "execution_count": 6,
      "outputs": []
    },
    {
      "cell_type": "markdown",
      "source": [
        "## **Operator dalam Python**"
      ],
      "metadata": {
        "id": "yypK6N8k1775"
      }
    },
    {
      "cell_type": "markdown",
      "source": [
        "### **1. Operator Aritmatika**"
      ],
      "metadata": {
        "id": "5vxeSnAt2GEm"
      }
    },
    {
      "cell_type": "code",
      "source": [
        "# Operator penjumlahan\n",
        "c = 7 + 4\n",
        "print(\"Hasil 7 + 4 = \", c)\n",
        "\n",
        "# Operator Pengurangan\n",
        "c = 7 - 4\n",
        "print(\"Hasil 7 - 4 = \", c)\n",
        "\n",
        "# Operator Perkalian\n",
        "c = 7 * 4\n",
        "print(\"Hasil 7 * 4 = \", c)\n",
        "\n",
        "# Operator Pembagian\n",
        "c = 7 / 4\n",
        "print(\"Hasil 7 / 4 = \", c)\n",
        "\n",
        "# Operator Sisa Bagi (modulo)\n",
        "c = 7 % 4\n",
        "print(\"Hasil 7 % 4 = \", c)\n",
        "\n",
        "# Operator Pangkat\n",
        "c = 7 ** 4\n",
        "print(\"Hasil 7 ** 4 = \", c)"
      ],
      "metadata": {
        "colab": {
          "base_uri": "https://localhost:8080/"
        },
        "id": "u7ystYxc2mwT",
        "outputId": "245d4423-6c43-4959-d27b-c92f9ef4e081"
      },
      "execution_count": 7,
      "outputs": [
        {
          "output_type": "stream",
          "name": "stdout",
          "text": [
            "Hasil 7 + 4 =  11\n",
            "Hasil 7 - 4 =  3\n",
            "Hasil 7 * 4 =  28\n",
            "Hasil 7 / 4 =  1.75\n",
            "Hasil 7 % 4 =  3\n",
            "Hasil 7 ** 4 =  2401\n"
          ]
        }
      ]
    },
    {
      "cell_type": "markdown",
      "source": [
        "### **2. Operator Pembanding/Relasi**"
      ],
      "metadata": {
        "id": "2Eh_6mrK2ZS9"
      }
    },
    {
      "cell_type": "code",
      "source": [
        "# Operator Sama Dengan\n",
        "c = 7 == 4\n",
        "print(\"Hasil 7 == 4\", c)\n",
        "\n",
        "# Operator Tidak Sama dengan\n",
        "c = 7 != 4\n",
        "print(\"Hasil 7 != 4\", c)\n",
        "\n",
        "# Operator Lebih Kecil\n",
        "callable = 7 < 4\n",
        "print(\"Hasil 7 < 4\", c)\n",
        "\n",
        "# Operator Lebih Besar\n",
        "c = 7 > 4\n",
        "print(\"Hasil 7 > 4\", c)\n",
        "\n",
        "# Operator Lebih Besar Sama dengan\n",
        "c = 7 >= 4\n",
        "print(\"Hasil 7 >= 4\", c)\n",
        "\n",
        "# Operator Lebih Kecil Sama dengan\n",
        "c = 7 <= 4\n",
        "print(\"Hasil 7 <= 4\", c)"
      ],
      "metadata": {
        "colab": {
          "base_uri": "https://localhost:8080/"
        },
        "outputId": "d217485f-de57-4fdc-f430-399815bb33ad",
        "id": "47bBJ-wm5DCk"
      },
      "execution_count": 8,
      "outputs": [
        {
          "output_type": "stream",
          "name": "stdout",
          "text": [
            "Hasil 7 == 4 False\n",
            "Hasil 7 != 4 True\n",
            "Hasil 7 < 4 True\n",
            "Hasil 7 > 4 True\n",
            "Hasil 7 >= 4 True\n",
            "Hasil 7 <= 4 False\n"
          ]
        }
      ]
    },
    {
      "cell_type": "markdown",
      "source": [
        "### **3. Operator Logika**"
      ],
      "metadata": {
        "id": "PBlu0im82dpJ"
      }
    },
    {
      "cell_type": "code",
      "source": [
        "a = True\n",
        "b = False\n",
        "\n",
        "# Logika AND\n",
        "x = a and b\n",
        "print(\"a and b = \", x)\n",
        "\n",
        "# Logika OR\n",
        "y = a or b\n",
        "print(\"a or b = \", y)\n",
        "\n",
        "# Logika Not\n",
        "z = not a\n",
        "print(\"not a = \", z)"
      ],
      "metadata": {
        "colab": {
          "base_uri": "https://localhost:8080/"
        },
        "id": "lFi39O2h7BOR",
        "outputId": "911a0f7e-ad5b-4e14-cb6f-b6934573e155"
      },
      "execution_count": 9,
      "outputs": [
        {
          "output_type": "stream",
          "name": "stdout",
          "text": [
            "a and b =  False\n",
            "a or b =  True\n",
            "not a =  False\n"
          ]
        }
      ]
    },
    {
      "cell_type": "markdown",
      "source": [
        "### **4. Operator Bitwise**"
      ],
      "metadata": {
        "id": "Nk4CO0ya2gkl"
      }
    },
    {
      "cell_type": "code",
      "source": [
        "# Operator AND\n",
        "c = 7 & 4\n",
        "print(\"Hasil 7 & 4 = \", c)\n",
        "\n",
        "# Operator OR\n",
        "c = 7 | 4\n",
        "print(\"Hasil 7 | 4 = \", c)\n",
        "\n",
        "# Operator XOR\n",
        "c = 7 ^ 4\n",
        "print(\"Hasil 7 ^ 4 = \", c)\n",
        "\n",
        "# Operator Not\n",
        "c = ~7\n",
        "print(\"Hasil ~7 = \", c)\n",
        "\n",
        "# Operator shift left (tukar posisi biner)\n",
        "c = 7 << 4\n",
        "print(\"Hasil 7 << 4 = \", c)\n",
        "\n",
        "# Operator shift right (tukar posisi biner)\n",
        "c = 7 >> 4\n",
        "print(\"Hasil 7 >> 4 = \", c)"
      ],
      "metadata": {
        "colab": {
          "base_uri": "https://localhost:8080/"
        },
        "outputId": "988489f6-6edf-4c5c-9250-196219dd0433",
        "id": "1YTK1yUv8AGT"
      },
      "execution_count": 10,
      "outputs": [
        {
          "output_type": "stream",
          "name": "stdout",
          "text": [
            "Hasil 7 & 4 =  4\n",
            "Hasil 7 | 4 =  7\n",
            "Hasil 7 ^ 4 =  3\n",
            "Hasil ~7 =  -8\n",
            "Hasil 7 << 4 =  112\n",
            "Hasil 7 >> 4 =  0\n"
          ]
        }
      ]
    },
    {
      "cell_type": "markdown",
      "source": [
        "## **Perulangan**"
      ],
      "metadata": {
        "id": "0I5eogip9mvt"
      }
    },
    {
      "cell_type": "markdown",
      "source": [
        "### **For**"
      ],
      "metadata": {
        "id": "HYf_1ZUD9pdS"
      }
    },
    {
      "cell_type": "code",
      "source": [
        "ulang = 10\n",
        "\n",
        "for i in range(ulang):\n",
        "    print(f\"Perulangan ke-{i}\")"
      ],
      "metadata": {
        "colab": {
          "base_uri": "https://localhost:8080/"
        },
        "id": "Q4TQn5yS9ui2",
        "outputId": "9c886e09-9ccd-4051-8d0d-3a0778b523b8"
      },
      "execution_count": 11,
      "outputs": [
        {
          "output_type": "stream",
          "name": "stdout",
          "text": [
            "Perulangan ke-0\n",
            "Perulangan ke-1\n",
            "Perulangan ke-2\n",
            "Perulangan ke-3\n",
            "Perulangan ke-4\n",
            "Perulangan ke-5\n",
            "Perulangan ke-6\n",
            "Perulangan ke-7\n",
            "Perulangan ke-8\n",
            "Perulangan ke-9\n"
          ]
        }
      ]
    },
    {
      "cell_type": "code",
      "source": [
        "item = ['kopi', 'nasi', 'teh', 'jeruk']\n",
        "\n",
        "for isi in item:\n",
        "    print(isi)"
      ],
      "metadata": {
        "colab": {
          "base_uri": "https://localhost:8080/"
        },
        "id": "zwlmzxCM98f_",
        "outputId": "654ec8bd-e8a1-4776-f9dc-ec4cdc08ed18"
      },
      "execution_count": 12,
      "outputs": [
        {
          "output_type": "stream",
          "name": "stdout",
          "text": [
            "kopi\n",
            "nasi\n",
            "teh\n",
            "jeruk\n"
          ]
        }
      ]
    },
    {
      "cell_type": "markdown",
      "source": [
        "### **While**"
      ],
      "metadata": {
        "id": "CscRlPVK9r84"
      }
    },
    {
      "cell_type": "code",
      "source": [
        "tjawab = 'ya'\n",
        "hitung = 0\n",
        "\n",
        "while(True):\n",
        "    hitung += 1\n",
        "    jawab = input(\"Ulang lagi tidak? \")\n",
        "    if jawab == 'tidak':\n",
        "        break\n",
        "\n",
        "print(f\"Total perulagan: {hitung}\")"
      ],
      "metadata": {
        "colab": {
          "base_uri": "https://localhost:8080/"
        },
        "id": "E1eu_VmJ-NIe",
        "outputId": "2dfe5ac8-d83d-4f8d-e06a-2b73da2c8c00"
      },
      "execution_count": 13,
      "outputs": [
        {
          "output_type": "stream",
          "name": "stdout",
          "text": [
            "Ulang lagi tidak? ya\n",
            "Ulang lagi tidak? ya\n",
            "Ulang lagi tidak? ya\n",
            "Ulang lagi tidak? tidak\n",
            "Total perulagan: 4\n"
          ]
        }
      ]
    },
    {
      "cell_type": "markdown",
      "source": [
        "## **Fungsi**"
      ],
      "metadata": {
        "id": "-dlKzdxV-4Sh"
      }
    },
    {
      "cell_type": "code",
      "source": [
        "def luas_persegi(sisi):\n",
        "    luas = sisi * sisi\n",
        "    return luas\n",
        "\n",
        "# pemanggilan fungsi\n",
        "print(\"Luas persegi: %d\" % luas_persegi(6))"
      ],
      "metadata": {
        "colab": {
          "base_uri": "https://localhost:8080/"
        },
        "id": "PmX8IAqv-6PL",
        "outputId": "6d289981-d7c1-491e-d3c3-7a502b7414b5"
      },
      "execution_count": 14,
      "outputs": [
        {
          "output_type": "stream",
          "name": "stdout",
          "text": [
            "Luas persegi: 36\n"
          ]
        }
      ]
    }
  ]
}