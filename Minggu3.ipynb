{
  "nbformat": 4,
  "nbformat_minor": 0,
  "metadata": {
    "colab": {
      "name": "Minggu3.ipynb",
      "provenance": [],
      "collapsed_sections": [],
      "authorship_tag": "ABX9TyM+oEREFVZZJ543ggDpXNyk",
      "include_colab_link": true
    },
    "kernelspec": {
      "name": "python3",
      "display_name": "Python 3"
    },
    "language_info": {
      "name": "python"
    }
  },
  "cells": [
    {
      "cell_type": "markdown",
      "metadata": {
        "id": "view-in-github",
        "colab_type": "text"
      },
      "source": [
        "<a href=\"https://colab.research.google.com/github/nugratar/pengantar-deep-learning/blob/main/Minggu3.ipynb\" target=\"_parent\"><img src=\"https://colab.research.google.com/assets/colab-badge.svg\" alt=\"Open In Colab\"/></a>"
      ]
    },
    {
      "cell_type": "markdown",
      "source": [
        "# **Tugas Minggu 3 Deep Learning**\n",
        "\n",
        "---\n",
        "\n",
        "Nama: Anugrah Lestari\n",
        "\n",
        "NIM: H071191059\n",
        "\n",
        "Materi: [Chapter 5. Deep Learning Computation](https://d2l.ai/chapter_deep-learning-computation/index.html)"
      ],
      "metadata": {
        "id": "rfrYTiAYjrQI"
      }
    },
    {
      "cell_type": "code",
      "source": [
        "import numpy as np\n",
        "import tensorflow as tf"
      ],
      "metadata": {
        "id": "oibszfyPrugK"
      },
      "execution_count": 1,
      "outputs": []
    },
    {
      "cell_type": "markdown",
      "source": [
        "## **5.1. Layers and Blocks**"
      ],
      "metadata": {
        "id": "eE1gTuOhlTnl"
      }
    },
    {
      "cell_type": "code",
      "source": [
        "net = tf.keras.models.Sequential([\n",
        "    tf.keras.layers.Dense(256, activation=tf.nn.relu),\n",
        "    tf.keras.layers.Dense(10),\n",
        "])\n",
        "\n",
        "X = tf.random.uniform((2, 20))\n",
        "net(X)"
      ],
      "metadata": {
        "id": "yRk4xx-WlpcZ",
        "colab": {
          "base_uri": "https://localhost:8080/"
        },
        "outputId": "d24443cf-f122-457e-9b2e-5c9155aeb7c6"
      },
      "execution_count": 2,
      "outputs": [
        {
          "output_type": "execute_result",
          "data": {
            "text/plain": [
              "<tf.Tensor: shape=(2, 10), dtype=float32, numpy=\n",
              "array([[ 0.22587827,  0.2966476 , -0.11187722,  0.11894083,  0.19762437,\n",
              "         0.0049703 , -0.03003908, -0.56404465, -0.13440756,  0.48708752],\n",
              "       [-0.01162184,  0.45450974,  0.14661303, -0.13723812,  0.08274566,\n",
              "         0.24840318, -0.09571005, -0.18770775, -0.07173897,  0.24179551]],\n",
              "      dtype=float32)>"
            ]
          },
          "metadata": {},
          "execution_count": 2
        }
      ]
    },
    {
      "cell_type": "markdown",
      "source": [
        "### **5.1.1. A Custom Block**"
      ],
      "metadata": {
        "id": "Z9MVSusumezS"
      }
    },
    {
      "cell_type": "code",
      "source": [
        "class MLP(tf.keras.Model):\n",
        "    def __init__(self):\n",
        "        super().__init__()\n",
        "        self.hidden = tf.keras.layers.Dense(units=256, activation=tf.nn.relu)\n",
        "        self.out = tf.keras.layers.Dense(units=10)\n",
        "    def call(self, X):\n",
        "        return self.out(self.hidden((X)))"
      ],
      "metadata": {
        "id": "RWur0J2om63d"
      },
      "execution_count": 3,
      "outputs": []
    },
    {
      "cell_type": "code",
      "source": [
        "net = MLP()\n",
        "net(X)"
      ],
      "metadata": {
        "id": "RSak4xhRnnK0",
        "colab": {
          "base_uri": "https://localhost:8080/"
        },
        "outputId": "a5b3ae54-187a-427e-be89-32f0cda3787d"
      },
      "execution_count": 4,
      "outputs": [
        {
          "output_type": "execute_result",
          "data": {
            "text/plain": [
              "<tf.Tensor: shape=(2, 10), dtype=float32, numpy=\n",
              "array([[ 0.21027564,  0.33801153,  0.38639066,  0.11583588,  0.07167374,\n",
              "         0.11505774, -0.0871055 , -0.27603048, -0.21334934, -0.3078347 ],\n",
              "       [ 0.38026607,  0.30476686,  0.09281956,  0.07465142, -0.1670453 ,\n",
              "        -0.00394521, -0.0274213 , -0.2785929 , -0.08020512, -0.20211133]],\n",
              "      dtype=float32)>"
            ]
          },
          "metadata": {},
          "execution_count": 4
        }
      ]
    },
    {
      "cell_type": "markdown",
      "source": [
        "### **5.1.2. The Sequential Block**"
      ],
      "metadata": {
        "id": "tqEAAkXSmvPo"
      }
    },
    {
      "cell_type": "code",
      "source": [
        "class MySequential(tf.keras.Model):\n",
        "    def __init__(self, *args):\n",
        "        super().__init__()\n",
        "        self.modules = []\n",
        "        for block in args:\n",
        "            self.modules.append(block)\n",
        "\n",
        "    def call(self, X):\n",
        "        for module in self.modules:\n",
        "            X = module(X)\n",
        "        return X"
      ],
      "metadata": {
        "id": "9KlQItQkntVm"
      },
      "execution_count": 5,
      "outputs": []
    },
    {
      "cell_type": "code",
      "source": [
        "net = MySequential(\n",
        "    tf.keras.layers.Dense(units=256, activation=tf.nn.relu),\n",
        "    tf.keras.layers.Dense(10))\n",
        "net(X)"
      ],
      "metadata": {
        "id": "fycTypdVn6-9",
        "colab": {
          "base_uri": "https://localhost:8080/"
        },
        "outputId": "84dedb5e-6508-4e1c-d0ad-45c7048ebc30"
      },
      "execution_count": 6,
      "outputs": [
        {
          "output_type": "execute_result",
          "data": {
            "text/plain": [
              "<tf.Tensor: shape=(2, 10), dtype=float32, numpy=\n",
              "array([[ 0.02752724,  0.35556522,  0.07982898, -0.13700488,  0.05839343,\n",
              "         0.42277822, -0.25712827, -0.5057378 , -0.42922506,  0.34451753],\n",
              "       [-0.14693944,  0.18772082,  0.3060857 ,  0.05661932, -0.05371741,\n",
              "         0.48677617, -0.4293428 , -0.33396488, -0.20798959,  0.14965913]],\n",
              "      dtype=float32)>"
            ]
          },
          "metadata": {},
          "execution_count": 6
        }
      ]
    },
    {
      "cell_type": "markdown",
      "source": [
        "### **5.1.3. Executing Code in the Forward Propagation Function**"
      ],
      "metadata": {
        "id": "DdQI7kn8mxaL"
      }
    },
    {
      "cell_type": "code",
      "source": [
        "class FixedHiddenMLP(tf.keras.Model):\n",
        "    def __init__(self):\n",
        "        super().__init__()\n",
        "        self.flatten = tf.keras.layers.Flatten()\n",
        "        self.rand_weight = tf.constant(tf.random.uniform((20, 20)))\n",
        "        self.dense = tf.keras.layers.Dense(20, activation=tf.nn.relu)\n",
        "\n",
        "    def call(self, inputs):\n",
        "        X = self.flatten(inputs)\n",
        "        X = tf.nn.relu(tf.matmul(X, self.rand_weight) + 1)\n",
        "        X = self.dense(X)\n",
        "        while tf.reduce_sum(tf.math.abs(X)) > 1:\n",
        "            X /= 2\n",
        "        return tf.reduce_sum(X)"
      ],
      "metadata": {
        "id": "1AkxxraJoAlZ"
      },
      "execution_count": 7,
      "outputs": []
    },
    {
      "cell_type": "code",
      "source": [
        "net = FixedHiddenMLP()\n",
        "net(X)"
      ],
      "metadata": {
        "id": "j-46xVkJoE_j",
        "colab": {
          "base_uri": "https://localhost:8080/"
        },
        "outputId": "87fa63b1-ba9e-494e-e74a-4747d1f95aad"
      },
      "execution_count": 8,
      "outputs": [
        {
          "output_type": "execute_result",
          "data": {
            "text/plain": [
              "<tf.Tensor: shape=(), dtype=float32, numpy=0.7870227>"
            ]
          },
          "metadata": {},
          "execution_count": 8
        }
      ]
    },
    {
      "cell_type": "code",
      "source": [
        "class NestMLP(tf.keras.Model):\n",
        "    def __init__(self):\n",
        "        super().__init__()\n",
        "        self.net = tf.keras.Sequential()\n",
        "        self.net.add(tf.keras.layers.Dense(64, activation=tf.nn.relu))\n",
        "        self.net.add(tf.keras.layers.Dense(32, activation=tf.nn.relu))\n",
        "        self.dense = tf.keras.layers.Dense(16, activation=tf.nn.relu)\n",
        "\n",
        "    def call(self, inputs):\n",
        "        return self.dense(self.net(inputs))\n",
        "\n",
        "chimera = tf.keras.Sequential()\n",
        "chimera.add(NestMLP())\n",
        "chimera.add(tf.keras.layers.Dense(20))\n",
        "chimera.add(FixedHiddenMLP())\n",
        "chimera(X)"
      ],
      "metadata": {
        "id": "ke3Iu_XIoFii",
        "colab": {
          "base_uri": "https://localhost:8080/"
        },
        "outputId": "0f494123-b7cc-4991-ab9a-3a4fbeb55e81"
      },
      "execution_count": 9,
      "outputs": [
        {
          "output_type": "execute_result",
          "data": {
            "text/plain": [
              "<tf.Tensor: shape=(), dtype=float32, numpy=0.6802695>"
            ]
          },
          "metadata": {},
          "execution_count": 9
        }
      ]
    },
    {
      "cell_type": "markdown",
      "source": [
        "## **5.2. Parameter Management**"
      ],
      "metadata": {
        "id": "hm5MObjDlfcY"
      }
    },
    {
      "cell_type": "code",
      "source": [
        "net = tf.keras.models.Sequential([\n",
        "    tf.keras.layers.Flatten(),\n",
        "    tf.keras.layers.Dense(4, activation=tf.nn.relu),\n",
        "    tf.keras.layers.Dense(1),\n",
        "])\n",
        "\n",
        "X = tf.random.uniform((2, 4))\n",
        "net(X)"
      ],
      "metadata": {
        "id": "j8BUT93aoV_x",
        "colab": {
          "base_uri": "https://localhost:8080/"
        },
        "outputId": "61a0dcc0-e38a-4994-a62e-254bdcb128ea"
      },
      "execution_count": 10,
      "outputs": [
        {
          "output_type": "execute_result",
          "data": {
            "text/plain": [
              "<tf.Tensor: shape=(2, 1), dtype=float32, numpy=\n",
              "array([[ 0.07015495],\n",
              "       [-0.21873581]], dtype=float32)>"
            ]
          },
          "metadata": {},
          "execution_count": 10
        }
      ]
    },
    {
      "cell_type": "markdown",
      "source": [
        "### **5.2.1. Parameter Access**"
      ],
      "metadata": {
        "id": "UEUZAGiLoNnr"
      }
    },
    {
      "cell_type": "code",
      "source": [
        "print(net.layers[2].weights)"
      ],
      "metadata": {
        "id": "D-c3FPoJpS-z",
        "colab": {
          "base_uri": "https://localhost:8080/"
        },
        "outputId": "2f3add1b-cc71-4948-cca3-24bf70e0fc4b"
      },
      "execution_count": 11,
      "outputs": [
        {
          "output_type": "stream",
          "name": "stdout",
          "text": [
            "[<tf.Variable 'dense_13/kernel:0' shape=(4, 1) dtype=float32, numpy=\n",
            "array([[ 0.6596291],\n",
            "       [-0.79066  ],\n",
            "       [ 0.3811915],\n",
            "       [-1.0496095]], dtype=float32)>, <tf.Variable 'dense_13/bias:0' shape=(1,) dtype=float32, numpy=array([0.], dtype=float32)>]\n"
          ]
        }
      ]
    },
    {
      "cell_type": "markdown",
      "source": [
        "**5.2.1.1. Targeted Parameters**"
      ],
      "metadata": {
        "id": "qE2xcRBwo2h8"
      }
    },
    {
      "cell_type": "code",
      "source": [
        "print(type(net.layers[2].weights[1]))\n",
        "print(net.layers[2].weights[1])\n",
        "print(tf.convert_to_tensor(net.layers[2].weights[1]))"
      ],
      "metadata": {
        "id": "o-1ApesIpAkV",
        "colab": {
          "base_uri": "https://localhost:8080/"
        },
        "outputId": "0e776c72-8d50-417d-a512-2a437e113c6e"
      },
      "execution_count": 12,
      "outputs": [
        {
          "output_type": "stream",
          "name": "stdout",
          "text": [
            "<class 'tensorflow.python.ops.resource_variable_ops.ResourceVariable'>\n",
            "<tf.Variable 'dense_13/bias:0' shape=(1,) dtype=float32, numpy=array([0.], dtype=float32)>\n",
            "tf.Tensor([0.], shape=(1,), dtype=float32)\n"
          ]
        }
      ]
    },
    {
      "cell_type": "code",
      "source": [
        "net.get_weights()[1]"
      ],
      "metadata": {
        "id": "Vl-6YwerpE8L",
        "colab": {
          "base_uri": "https://localhost:8080/"
        },
        "outputId": "3a7f2b03-c043-4e90-ec1a-1a6e59a09e92"
      },
      "execution_count": 13,
      "outputs": [
        {
          "output_type": "execute_result",
          "data": {
            "text/plain": [
              "array([0., 0., 0., 0.], dtype=float32)"
            ]
          },
          "metadata": {},
          "execution_count": 13
        }
      ]
    },
    {
      "cell_type": "markdown",
      "source": [
        "**5.2.1.2. All Parameters at Once**"
      ],
      "metadata": {
        "id": "zos3IVm1o595"
      }
    },
    {
      "cell_type": "code",
      "source": [
        "print(net.layers[1].weights)\n",
        "print(net.get_weights())"
      ],
      "metadata": {
        "id": "p8935gJ9pDOF",
        "colab": {
          "base_uri": "https://localhost:8080/"
        },
        "outputId": "65899278-3893-4ac7-bbc5-4152e45af729"
      },
      "execution_count": 14,
      "outputs": [
        {
          "output_type": "stream",
          "name": "stdout",
          "text": [
            "[<tf.Variable 'dense_12/kernel:0' shape=(4, 4) dtype=float32, numpy=\n",
            "array([[-0.56770664, -0.739567  ,  0.23949689,  0.40469986],\n",
            "       [-0.8239748 , -0.14566529,  0.0324102 ,  0.2339856 ],\n",
            "       [-0.63778126, -0.2838819 , -0.11342788, -0.69773626],\n",
            "       [-0.8218518 , -0.792279  ,  0.72759134, -0.14758343]],\n",
            "      dtype=float32)>, <tf.Variable 'dense_12/bias:0' shape=(4,) dtype=float32, numpy=array([0., 0., 0., 0.], dtype=float32)>]\n",
            "[array([[-0.56770664, -0.739567  ,  0.23949689,  0.40469986],\n",
            "       [-0.8239748 , -0.14566529,  0.0324102 ,  0.2339856 ],\n",
            "       [-0.63778126, -0.2838819 , -0.11342788, -0.69773626],\n",
            "       [-0.8218518 , -0.792279  ,  0.72759134, -0.14758343]],\n",
            "      dtype=float32), array([0., 0., 0., 0.], dtype=float32), array([[ 0.6596291],\n",
            "       [-0.79066  ],\n",
            "       [ 0.3811915],\n",
            "       [-1.0496095]], dtype=float32), array([0.], dtype=float32)]\n"
          ]
        }
      ]
    },
    {
      "cell_type": "markdown",
      "source": [
        "**5.2.1.3. Collecting Parameters from Nested Blocks**"
      ],
      "metadata": {
        "id": "1-VF18i4o8uX"
      }
    },
    {
      "cell_type": "code",
      "source": [
        "def block1(name):\n",
        "    return tf.keras.Sequential([\n",
        "        tf.keras.layers.Flatten(),\n",
        "        tf.keras.layers.Dense(4, activation=tf.nn.relu)],\n",
        "        name=name)\n",
        "\n",
        "def block2():\n",
        "    net = tf.keras.Sequential()\n",
        "    for i in range(4):\n",
        "        net.add(block1(name=f'block-{i}'))\n",
        "    return net\n",
        "\n",
        "rgnet = tf.keras.Sequential()\n",
        "rgnet.add(block2())\n",
        "rgnet.add(tf.keras.layers.Dense(1))\n",
        "rgnet(X)"
      ],
      "metadata": {
        "id": "PKerTk01pJOi",
        "colab": {
          "base_uri": "https://localhost:8080/"
        },
        "outputId": "82e0e9b2-a200-4b58-8807-2e5c1e5bf368"
      },
      "execution_count": 15,
      "outputs": [
        {
          "output_type": "execute_result",
          "data": {
            "text/plain": [
              "<tf.Tensor: shape=(2, 1), dtype=float32, numpy=\n",
              "array([[0.0394949],\n",
              "       [0.       ]], dtype=float32)>"
            ]
          },
          "metadata": {},
          "execution_count": 15
        }
      ]
    },
    {
      "cell_type": "code",
      "source": [
        "print(rgnet.summary())"
      ],
      "metadata": {
        "id": "5MQEL0ZnpLgr",
        "colab": {
          "base_uri": "https://localhost:8080/"
        },
        "outputId": "5f1a85f7-9efd-4f98-d09b-79cc72f19f00"
      },
      "execution_count": 16,
      "outputs": [
        {
          "output_type": "stream",
          "name": "stdout",
          "text": [
            "Model: \"sequential_4\"\n",
            "_________________________________________________________________\n",
            " Layer (type)                Output Shape              Param #   \n",
            "=================================================================\n",
            " sequential_5 (Sequential)   (2, 4)                    80        \n",
            "                                                                 \n",
            " dense_18 (Dense)            (2, 1)                    5         \n",
            "                                                                 \n",
            "=================================================================\n",
            "Total params: 85\n",
            "Trainable params: 85\n",
            "Non-trainable params: 0\n",
            "_________________________________________________________________\n",
            "None\n"
          ]
        }
      ]
    },
    {
      "cell_type": "code",
      "source": [
        "rgnet.layers[0].layers[1].layers[1].weights[1]"
      ],
      "metadata": {
        "id": "fzfLwd2RpL7a",
        "colab": {
          "base_uri": "https://localhost:8080/"
        },
        "outputId": "33c66104-e196-4f7e-a7ad-c468d88b6e5b"
      },
      "execution_count": 17,
      "outputs": [
        {
          "output_type": "execute_result",
          "data": {
            "text/plain": [
              "<tf.Variable 'dense_15/bias:0' shape=(4,) dtype=float32, numpy=array([0., 0., 0., 0.], dtype=float32)>"
            ]
          },
          "metadata": {},
          "execution_count": 17
        }
      ]
    },
    {
      "cell_type": "markdown",
      "source": [
        "### **5.2.2. Parameter Initialization**"
      ],
      "metadata": {
        "id": "fHrRtaCvoRt2"
      }
    },
    {
      "cell_type": "markdown",
      "source": [
        "**5.2.2.1. Built-in Initialization**"
      ],
      "metadata": {
        "id": "KiSEsKFQppvM"
      }
    },
    {
      "cell_type": "code",
      "source": [
        "net = tf.keras.models.Sequential([\n",
        "    tf.keras.layers.Flatten(),\n",
        "    tf.keras.layers.Dense(\n",
        "        4, activation=tf.nn.relu,\n",
        "        kernel_initializer=tf.random_normal_initializer(mean=0, stddev=0.01),\n",
        "        bias_initializer=tf.zeros_initializer()),\n",
        "    tf.keras.layers.Dense(1)])\n",
        "\n",
        "net(X)\n",
        "net.weights[0], net.weights[1]"
      ],
      "metadata": {
        "id": "2tc60VbBpsLi",
        "colab": {
          "base_uri": "https://localhost:8080/"
        },
        "outputId": "0dd1b9f9-fdb8-415f-c9b5-534ee7f9a8ce"
      },
      "execution_count": 18,
      "outputs": [
        {
          "output_type": "execute_result",
          "data": {
            "text/plain": [
              "(<tf.Variable 'dense_19/kernel:0' shape=(4, 4) dtype=float32, numpy=\n",
              " array([[ 4.7141714e-03,  1.3045545e-02, -4.5143887e-03,  2.0845432e-02],\n",
              "        [-6.6234265e-03, -1.6503291e-04, -2.0403141e-02,  5.7090030e-05],\n",
              "        [-2.8411844e-03, -7.8593828e-03, -8.9509673e-03,  8.2817087e-03],\n",
              "        [-5.1554879e-03, -3.5459911e-03, -6.4757061e-03,  1.2355015e-02]],\n",
              "       dtype=float32)>,\n",
              " <tf.Variable 'dense_19/bias:0' shape=(4,) dtype=float32, numpy=array([0., 0., 0., 0.], dtype=float32)>)"
            ]
          },
          "metadata": {},
          "execution_count": 18
        }
      ]
    },
    {
      "cell_type": "code",
      "source": [
        "net = tf.keras.models.Sequential([\n",
        "    tf.keras.layers.Flatten(),\n",
        "    tf.keras.layers.Dense(\n",
        "        4, activation=tf.nn.relu,\n",
        "        kernel_initializer=tf.keras.initializers.Constant(1),\n",
        "        bias_initializer=tf.zeros_initializer()),\n",
        "    tf.keras.layers.Dense(1),\n",
        "])\n",
        "\n",
        "net(X)\n",
        "net.weights[0], net.weights[1]"
      ],
      "metadata": {
        "id": "6_VPSIuIpZFp",
        "colab": {
          "base_uri": "https://localhost:8080/"
        },
        "outputId": "f88340f5-88e4-4b53-e348-ab6474eaff8e"
      },
      "execution_count": 19,
      "outputs": [
        {
          "output_type": "execute_result",
          "data": {
            "text/plain": [
              "(<tf.Variable 'dense_21/kernel:0' shape=(4, 4) dtype=float32, numpy=\n",
              " array([[1., 1., 1., 1.],\n",
              "        [1., 1., 1., 1.],\n",
              "        [1., 1., 1., 1.],\n",
              "        [1., 1., 1., 1.]], dtype=float32)>,\n",
              " <tf.Variable 'dense_21/bias:0' shape=(4,) dtype=float32, numpy=array([0., 0., 0., 0.], dtype=float32)>)"
            ]
          },
          "metadata": {},
          "execution_count": 19
        }
      ]
    },
    {
      "cell_type": "code",
      "source": [
        "net = tf.keras.models.Sequential([\n",
        "    tf.keras.layers.Flatten(),\n",
        "    tf.keras.layers.Dense(\n",
        "        4,\n",
        "        activation=tf.nn.relu,\n",
        "        kernel_initializer=tf.keras.initializers.GlorotUniform()),\n",
        "    tf.keras.layers.Dense(\n",
        "        1, kernel_initializer=tf.keras.initializers.Constant(42)),\n",
        "])\n",
        "\n",
        "net(X)\n",
        "print(net.layers[1].weights[0])\n",
        "print(net.layers[2].weights[0])"
      ],
      "metadata": {
        "id": "GF_MaG4zpyf2",
        "colab": {
          "base_uri": "https://localhost:8080/"
        },
        "outputId": "df01ce06-33b9-430d-facd-c09e9430ed92"
      },
      "execution_count": 20,
      "outputs": [
        {
          "output_type": "stream",
          "name": "stdout",
          "text": [
            "<tf.Variable 'dense_23/kernel:0' shape=(4, 4) dtype=float32, numpy=\n",
            "array([[-0.4237068 , -0.6215355 ,  0.3314541 ,  0.11717027],\n",
            "       [-0.5593823 , -0.38212284,  0.21387392, -0.41744643],\n",
            "       [ 0.53974086,  0.76091236,  0.8532389 , -0.0862143 ],\n",
            "       [ 0.00585443, -0.53170145,  0.7941012 ,  0.71333903]],\n",
            "      dtype=float32)>\n",
            "<tf.Variable 'dense_24/kernel:0' shape=(4, 1) dtype=float32, numpy=\n",
            "array([[42.],\n",
            "       [42.],\n",
            "       [42.],\n",
            "       [42.]], dtype=float32)>\n"
          ]
        }
      ]
    },
    {
      "cell_type": "markdown",
      "source": [
        "**5.2.2.2. Custom Initialization**"
      ],
      "metadata": {
        "id": "WMio4PXQp25W"
      }
    },
    {
      "cell_type": "code",
      "source": [
        "class MyInit(tf.keras.initializers.Initializer):\n",
        "    def __call__(self, shape, dtype=None):\n",
        "        data=tf.random.uniform(shape, -10, 10, dtype=dtype)\n",
        "        factor=(tf.abs(data) >= 5)\n",
        "        factor=tf.cast(factor, tf.float32)\n",
        "        return data * factor\n",
        "\n",
        "net = tf.keras.models.Sequential([\n",
        "    tf.keras.layers.Flatten(),\n",
        "    tf.keras.layers.Dense(\n",
        "        4,\n",
        "        activation=tf.nn.relu,\n",
        "        kernel_initializer=MyInit()),\n",
        "    tf.keras.layers.Dense(1),\n",
        "])\n",
        "\n",
        "net(X)\n",
        "print(net.layers[1].weights[0])"
      ],
      "metadata": {
        "id": "tySc7t_zp7ru",
        "colab": {
          "base_uri": "https://localhost:8080/"
        },
        "outputId": "6cbd2e32-b141-466e-e22e-77eb46d8dbb4"
      },
      "execution_count": 21,
      "outputs": [
        {
          "output_type": "stream",
          "name": "stdout",
          "text": [
            "<tf.Variable 'dense_25/kernel:0' shape=(4, 4) dtype=float32, numpy=\n",
            "array([[ 0.       ,  6.081764 , -0.       ,  9.076174 ],\n",
            "       [-9.709287 , -8.627005 ,  7.5660515,  6.1013584],\n",
            "       [ 6.8232307, -5.0418687,  0.       , -0.       ],\n",
            "       [ 0.       , -6.1968184, -9.94524  ,  0.       ]], dtype=float32)>\n"
          ]
        }
      ]
    },
    {
      "cell_type": "code",
      "source": [
        "net.layers[1].weights[0][:].assign(net.layers[1].weights[0] + 1)\n",
        "net.layers[1].weights[0][0, 0].assign(42)\n",
        "net.layers[1].weights[0]"
      ],
      "metadata": {
        "id": "IofghGPap9py",
        "colab": {
          "base_uri": "https://localhost:8080/"
        },
        "outputId": "d62ffe15-d3a5-41f1-a930-bd74abe93363"
      },
      "execution_count": 22,
      "outputs": [
        {
          "output_type": "execute_result",
          "data": {
            "text/plain": [
              "<tf.Variable 'dense_25/kernel:0' shape=(4, 4) dtype=float32, numpy=\n",
              "array([[42.       ,  7.081764 ,  1.       , 10.076174 ],\n",
              "       [-8.709287 , -7.6270046,  8.5660515,  7.1013584],\n",
              "       [ 7.8232307, -4.0418687,  1.       ,  1.       ],\n",
              "       [ 1.       , -5.1968184, -8.94524  ,  1.       ]], dtype=float32)>"
            ]
          },
          "metadata": {},
          "execution_count": 22
        }
      ]
    },
    {
      "cell_type": "markdown",
      "source": [
        "### **5.2.3. Tied Parameters**"
      ],
      "metadata": {
        "id": "4f0IqYSIoT7n"
      }
    },
    {
      "cell_type": "code",
      "source": [
        "shared = tf.keras.layers.Dense(4, activation=tf.nn.relu)\n",
        "net = tf.keras.models.Sequential([\n",
        "    tf.keras.layers.Flatten(),\n",
        "    shared,\n",
        "    shared,\n",
        "    tf.keras.layers.Dense(1),\n",
        "])\n",
        "\n",
        "net(X)\n",
        "\n",
        "print(len(net.layers) == 3)"
      ],
      "metadata": {
        "id": "T_hV35u1lp33",
        "colab": {
          "base_uri": "https://localhost:8080/"
        },
        "outputId": "695194b5-7b4a-4888-e038-0897e8a7af0d"
      },
      "execution_count": 23,
      "outputs": [
        {
          "output_type": "stream",
          "name": "stdout",
          "text": [
            "True\n"
          ]
        }
      ]
    },
    {
      "cell_type": "markdown",
      "source": [
        "## **5.3. Deferred Initialization**"
      ],
      "metadata": {
        "id": "4BDT4xpcliN5"
      }
    },
    {
      "cell_type": "markdown",
      "source": [
        "### **5.3.1. Instantiating a Network**"
      ],
      "metadata": {
        "id": "6A3X6uB8qoZc"
      }
    },
    {
      "cell_type": "code",
      "source": [
        "net = tf.keras.models.Sequential([\n",
        "    tf.keras.layers.Dense(256, activation=tf.nn.relu),\n",
        "    tf.keras.layers.Dense(10),\n",
        "])"
      ],
      "metadata": {
        "id": "heqwXCSmlqVc"
      },
      "execution_count": 24,
      "outputs": []
    },
    {
      "cell_type": "code",
      "source": [
        "[net.layers[i].get_weights() for i in range(len(net.layers))]"
      ],
      "metadata": {
        "id": "kCbakdMWqzf1",
        "colab": {
          "base_uri": "https://localhost:8080/"
        },
        "outputId": "4ce7a640-2338-48f2-a05b-8cc1af1e453a"
      },
      "execution_count": 25,
      "outputs": [
        {
          "output_type": "execute_result",
          "data": {
            "text/plain": [
              "[[], []]"
            ]
          },
          "metadata": {},
          "execution_count": 25
        }
      ]
    },
    {
      "cell_type": "code",
      "source": [
        "X = tf.random.uniform((2, 20))\n",
        "net(X)\n",
        "[w.shape for w in net.get_weights()]"
      ],
      "metadata": {
        "id": "K9LjDLsZqzko",
        "colab": {
          "base_uri": "https://localhost:8080/"
        },
        "outputId": "aeee4829-444b-4d06-a773-1772d61d68f7"
      },
      "execution_count": 26,
      "outputs": [
        {
          "output_type": "execute_result",
          "data": {
            "text/plain": [
              "[(20, 256), (256,), (256, 10), (10,)]"
            ]
          },
          "metadata": {},
          "execution_count": 26
        }
      ]
    },
    {
      "cell_type": "markdown",
      "source": [
        "## **5.4. Custom Layers**"
      ],
      "metadata": {
        "id": "UOyVQ-6JlkNH"
      }
    },
    {
      "cell_type": "markdown",
      "source": [
        "### **5.4.1. Layers without Parameters**"
      ],
      "metadata": {
        "id": "zH4SlodUq4-v"
      }
    },
    {
      "cell_type": "code",
      "source": [
        "class CenteredLayer(tf.keras.Model):\n",
        "    def __init__(self):\n",
        "        super().__init__()\n",
        "\n",
        "    def call(self, inputs):\n",
        "        return inputs - tf.reduce_mean(inputs)"
      ],
      "metadata": {
        "id": "it43UtTerAzp"
      },
      "execution_count": 27,
      "outputs": []
    },
    {
      "cell_type": "code",
      "source": [
        "layer = CenteredLayer()\n",
        "layer(tf.constant([1, 2, 3, 4, 5]))"
      ],
      "metadata": {
        "id": "VQPBfDw8rDwt",
        "colab": {
          "base_uri": "https://localhost:8080/"
        },
        "outputId": "cfb96cf4-14bc-4c6e-ae89-f6fbc0617d2e"
      },
      "execution_count": 28,
      "outputs": [
        {
          "output_type": "execute_result",
          "data": {
            "text/plain": [
              "<tf.Tensor: shape=(5,), dtype=int32, numpy=array([-2, -1,  0,  1,  2], dtype=int32)>"
            ]
          },
          "metadata": {},
          "execution_count": 28
        }
      ]
    },
    {
      "cell_type": "code",
      "source": [
        "net = tf.keras.Sequential([tf.keras.layers.Dense(128), CenteredLayer()])"
      ],
      "metadata": {
        "id": "AKh5xUOorMrF"
      },
      "execution_count": 29,
      "outputs": []
    },
    {
      "cell_type": "code",
      "source": [
        "Y = net(tf.random.uniform((4, 8)))\n",
        "tf.reduce_mean(Y)"
      ],
      "metadata": {
        "id": "AtbKyM0PrMun",
        "colab": {
          "base_uri": "https://localhost:8080/"
        },
        "outputId": "e2d017cb-3de5-47ad-c22b-d4fd2d0ae17d"
      },
      "execution_count": 30,
      "outputs": [
        {
          "output_type": "execute_result",
          "data": {
            "text/plain": [
              "<tf.Tensor: shape=(), dtype=float32, numpy=-9.313226e-10>"
            ]
          },
          "metadata": {},
          "execution_count": 30
        }
      ]
    },
    {
      "cell_type": "markdown",
      "source": [
        "### **5.4.2. Layers with Parameters**"
      ],
      "metadata": {
        "id": "2tKI1xxcq9Z7"
      }
    },
    {
      "cell_type": "code",
      "source": [
        "class MyDense(tf.keras.Model):\n",
        "    def __init__(self, units):\n",
        "        super().__init__()\n",
        "        self.units = units\n",
        "\n",
        "    def build(self, X_shape):\n",
        "        self.weight = self.add_weight(name='weight',\n",
        "            shape=[X_shape[-1], self.units],\n",
        "            initializer=tf.random_normal_initializer())\n",
        "        self.bias = self.add_weight(\n",
        "            name='bias', shape=[self.units],\n",
        "            initializer=tf.zeros_initializer())\n",
        "\n",
        "    def call(self, X):\n",
        "        linear = tf.matmul(X, self.weight) + self.bias\n",
        "        return tf.nn.relu(linear)"
      ],
      "metadata": {
        "id": "TrB_xBl3lqvt"
      },
      "execution_count": 31,
      "outputs": []
    },
    {
      "cell_type": "code",
      "source": [
        "dense = MyDense(3)\n",
        "dense(tf.random.uniform((2, 5)))\n",
        "dense.get_weights()"
      ],
      "metadata": {
        "id": "74FuIQqCrRsc",
        "colab": {
          "base_uri": "https://localhost:8080/"
        },
        "outputId": "864c6792-ee20-4bb0-bcfd-d67a1b4296e2"
      },
      "execution_count": 32,
      "outputs": [
        {
          "output_type": "execute_result",
          "data": {
            "text/plain": [
              "[array([[-0.05425806,  0.04985551,  0.03630913],\n",
              "        [ 0.00110864,  0.00778777,  0.02191167],\n",
              "        [-0.00183461,  0.04339891, -0.02057284],\n",
              "        [ 0.08061808, -0.02027545, -0.06995308],\n",
              "        [ 0.01988108,  0.0402371 ,  0.07179581]], dtype=float32),\n",
              " array([0., 0., 0.], dtype=float32)]"
            ]
          },
          "metadata": {},
          "execution_count": 32
        }
      ]
    },
    {
      "cell_type": "code",
      "source": [
        "dense(tf.random.uniform((2, 5)))"
      ],
      "metadata": {
        "id": "jMtg3-0zrRk8",
        "colab": {
          "base_uri": "https://localhost:8080/"
        },
        "outputId": "8891999b-270e-4fcf-fec2-41dad29e87ec"
      },
      "execution_count": 33,
      "outputs": [
        {
          "output_type": "execute_result",
          "data": {
            "text/plain": [
              "<tf.Tensor: shape=(2, 3), dtype=float32, numpy=\n",
              "array([[0.02231781, 0.09039012, 0.04925231],\n",
              "       [0.00529003, 0.05870747, 0.06614687]], dtype=float32)>"
            ]
          },
          "metadata": {},
          "execution_count": 33
        }
      ]
    },
    {
      "cell_type": "code",
      "source": [
        "net = tf.keras.models.Sequential([MyDense(8), MyDense(1)])\n",
        "net(tf.random.uniform((2, 64)))"
      ],
      "metadata": {
        "id": "5UQD-wB5rRdN",
        "colab": {
          "base_uri": "https://localhost:8080/"
        },
        "outputId": "2016950e-73cb-42d1-fb35-20cfc86fef33"
      },
      "execution_count": 34,
      "outputs": [
        {
          "output_type": "execute_result",
          "data": {
            "text/plain": [
              "<tf.Tensor: shape=(2, 1), dtype=float32, numpy=\n",
              "array([[0.03050093],\n",
              "       [0.0381741 ]], dtype=float32)>"
            ]
          },
          "metadata": {},
          "execution_count": 34
        }
      ]
    },
    {
      "cell_type": "markdown",
      "source": [
        "## **5.5. File I/O**"
      ],
      "metadata": {
        "id": "x_6lkZsslmCo"
      }
    },
    {
      "cell_type": "markdown",
      "source": [
        "### **5.5.1. Loading and Saving Tensors**"
      ],
      "metadata": {
        "id": "PdfCMQUzragx"
      }
    },
    {
      "cell_type": "code",
      "source": [
        "x = tf.range(4)\n",
        "np.save('x-file.npy', x)"
      ],
      "metadata": {
        "id": "ObetpqNgrnrG"
      },
      "execution_count": 35,
      "outputs": []
    },
    {
      "cell_type": "code",
      "source": [
        "x2 = np.load('x-file.npy', allow_pickle=True)\n",
        "x2"
      ],
      "metadata": {
        "id": "2D6-7G_LrrJG",
        "colab": {
          "base_uri": "https://localhost:8080/"
        },
        "outputId": "f4fcb0ab-8c5a-4f2b-de5e-f148652f88be"
      },
      "execution_count": 36,
      "outputs": [
        {
          "output_type": "execute_result",
          "data": {
            "text/plain": [
              "array([0, 1, 2, 3], dtype=int32)"
            ]
          },
          "metadata": {},
          "execution_count": 36
        }
      ]
    },
    {
      "cell_type": "code",
      "source": [
        "y = tf.zeros(4)\n",
        "np.save('xy-files.npy', [x, y])\n",
        "x2, y2 = np.load('xy-files.npy', allow_pickle=True)\n",
        "(x2, y2)"
      ],
      "metadata": {
        "id": "vHLE2KUPr3zr",
        "colab": {
          "base_uri": "https://localhost:8080/"
        },
        "outputId": "c2caabf3-cd2c-4227-d494-ebe5cb4622ac"
      },
      "execution_count": 37,
      "outputs": [
        {
          "output_type": "execute_result",
          "data": {
            "text/plain": [
              "(array([0., 1., 2., 3.]), array([0., 0., 0., 0.]))"
            ]
          },
          "metadata": {},
          "execution_count": 37
        }
      ]
    },
    {
      "cell_type": "code",
      "source": [
        "mydict = {'x': x, 'y': y}\n",
        "np.save('mydict.npy', mydict)\n",
        "mydict2 = np.load('mydict.npy', allow_pickle=True)\n",
        "mydict2"
      ],
      "metadata": {
        "id": "kgnoOB8Fr3qG",
        "colab": {
          "base_uri": "https://localhost:8080/"
        },
        "outputId": "577aedd3-9f09-4cc6-e123-8449d92c6700"
      },
      "execution_count": 38,
      "outputs": [
        {
          "output_type": "execute_result",
          "data": {
            "text/plain": [
              "array({'x': <tf.Tensor: shape=(4,), dtype=int32, numpy=array([0, 1, 2, 3], dtype=int32)>, 'y': <tf.Tensor: shape=(4,), dtype=float32, numpy=array([0., 0., 0., 0.], dtype=float32)>},\n",
              "      dtype=object)"
            ]
          },
          "metadata": {},
          "execution_count": 38
        }
      ]
    },
    {
      "cell_type": "markdown",
      "source": [
        "### **5.5.2. Loading and Saving Model Parameters**"
      ],
      "metadata": {
        "id": "_giJwHyNrcqX"
      }
    },
    {
      "cell_type": "code",
      "source": [
        "class MLP(tf.keras.Model):\n",
        "    def __init__(self):\n",
        "        super().__init__()\n",
        "        self.flatten = tf.keras.layers.Flatten()\n",
        "        self.hidden = tf.keras.layers.Dense(units=256, activation=tf.nn.relu)\n",
        "        self.out = tf.keras.layers.Dense(units=10)\n",
        "\n",
        "    def call(self, inputs):\n",
        "        x = self.flatten(inputs)\n",
        "        x = self.hidden(x)\n",
        "        return self.out(x)\n",
        "\n",
        "net = MLP()\n",
        "X = tf.random.uniform((2, 20))\n",
        "Y = net(X)"
      ],
      "metadata": {
        "id": "p-S1VhbPlrav"
      },
      "execution_count": 39,
      "outputs": []
    },
    {
      "cell_type": "code",
      "source": [
        "net.save_weights('mlp.params')"
      ],
      "metadata": {
        "id": "VoLSsdvMr8Xr"
      },
      "execution_count": 40,
      "outputs": []
    },
    {
      "cell_type": "code",
      "source": [
        "clone = MLP()\n",
        "clone.load_weights('mlp.params')"
      ],
      "metadata": {
        "id": "uGIGdfM_r8UF",
        "colab": {
          "base_uri": "https://localhost:8080/"
        },
        "outputId": "30717272-10e7-4964-dfce-9191fe2ac27f"
      },
      "execution_count": 41,
      "outputs": [
        {
          "output_type": "execute_result",
          "data": {
            "text/plain": [
              "<tensorflow.python.training.tracking.util.CheckpointLoadStatus at 0x7f7b0d3e3850>"
            ]
          },
          "metadata": {},
          "execution_count": 41
        }
      ]
    },
    {
      "cell_type": "code",
      "source": [
        "Y_clone = clone(X)\n",
        "Y_clone == Y"
      ],
      "metadata": {
        "id": "PmAFkSbgr8Q3",
        "colab": {
          "base_uri": "https://localhost:8080/"
        },
        "outputId": "5189ad74-4056-4af2-97df-8f94b12dd68d"
      },
      "execution_count": 42,
      "outputs": [
        {
          "output_type": "execute_result",
          "data": {
            "text/plain": [
              "<tf.Tensor: shape=(2, 10), dtype=bool, numpy=\n",
              "array([[ True,  True,  True,  True,  True,  True,  True,  True,  True,\n",
              "         True],\n",
              "       [ True,  True,  True,  True,  True,  True,  True,  True,  True,\n",
              "         True]])>"
            ]
          },
          "metadata": {},
          "execution_count": 42
        }
      ]
    },
    {
      "cell_type": "markdown",
      "source": [
        "## **5.6. GPUs**"
      ],
      "metadata": {
        "id": "UTYsBUwIlnuQ"
      }
    },
    {
      "cell_type": "markdown",
      "source": [
        "### **5.6.1. Computing Devices**"
      ],
      "metadata": {
        "id": "NbMbrHohrgXv"
      }
    },
    {
      "cell_type": "code",
      "source": [
        "tf.device('/CPU:0'), tf.device('/GPU:0'), tf.device('/GPU:1')"
      ],
      "metadata": {
        "id": "2i_6fYs8sYH6",
        "colab": {
          "base_uri": "https://localhost:8080/"
        },
        "outputId": "66e49c32-223e-400c-db40-dd7874d8aba8"
      },
      "execution_count": 43,
      "outputs": [
        {
          "output_type": "execute_result",
          "data": {
            "text/plain": [
              "(<tensorflow.python.eager.context._EagerDeviceContext at 0x7f7b0d3a50a0>,\n",
              " <tensorflow.python.eager.context._EagerDeviceContext at 0x7f7b0d3a5820>,\n",
              " <tensorflow.python.eager.context._EagerDeviceContext at 0x7f7b0d3a58c0>)"
            ]
          },
          "metadata": {},
          "execution_count": 43
        }
      ]
    },
    {
      "cell_type": "code",
      "source": [
        "len(tf.config.experimental.list_physical_devices('GPU'))"
      ],
      "metadata": {
        "id": "3JljbUpVseUQ",
        "colab": {
          "base_uri": "https://localhost:8080/"
        },
        "outputId": "86424787-efad-413a-8d27-6a7690e28a47"
      },
      "execution_count": 44,
      "outputs": [
        {
          "output_type": "execute_result",
          "data": {
            "text/plain": [
              "0"
            ]
          },
          "metadata": {},
          "execution_count": 44
        }
      ]
    },
    {
      "cell_type": "code",
      "source": [
        "def try_gpu(i=0):\n",
        "    \"\"\"Return gpu(i) if exists, otherwise return cpu().\"\"\"\n",
        "    if len(tf.config.experimental.list_physical_devices('GPU')) >= i + 1:\n",
        "        return tf.device(f'/GPU:{i}')\n",
        "    return tf.device('/CPU:0')\n",
        "\n",
        "def try_all_gpus():\n",
        "    \"\"\"Return all available GPUs, or [cpu(),] if no GPU exists.\"\"\"\n",
        "    num_gpus = len(tf.config.experimental.list_physical_devices('GPU'))\n",
        "    devices = [tf.device(f'/GPU:{i}') for i in range(num_gpus)]\n",
        "    return devices if devices else [tf.device('/CPU:0')]\n",
        "\n",
        "try_gpu(), try_gpu(10), try_all_gpus()"
      ],
      "metadata": {
        "id": "M0ic5-3MseJ0",
        "colab": {
          "base_uri": "https://localhost:8080/"
        },
        "outputId": "71184bc4-e868-4ec3-8897-7003202a4e36"
      },
      "execution_count": 45,
      "outputs": [
        {
          "output_type": "execute_result",
          "data": {
            "text/plain": [
              "(<tensorflow.python.eager.context._EagerDeviceContext at 0x7f7b0d498280>,\n",
              " <tensorflow.python.eager.context._EagerDeviceContext at 0x7f7b0d4b4e60>,\n",
              " [<tensorflow.python.eager.context._EagerDeviceContext at 0x7f7b0d552780>])"
            ]
          },
          "metadata": {},
          "execution_count": 45
        }
      ]
    },
    {
      "cell_type": "markdown",
      "source": [
        "### **5.6.2. Tensors and GPUs**"
      ],
      "metadata": {
        "id": "MhxDVCkorh9N"
      }
    },
    {
      "cell_type": "code",
      "source": [
        "x = tf.constant([1, 2, 3])\n",
        "x.device"
      ],
      "metadata": {
        "id": "LptOC_2gssiF",
        "colab": {
          "base_uri": "https://localhost:8080/",
          "height": 36
        },
        "outputId": "e06fe30b-9038-4364-a0c4-6577725d42af"
      },
      "execution_count": 46,
      "outputs": [
        {
          "output_type": "execute_result",
          "data": {
            "text/plain": [
              "'/job:localhost/replica:0/task:0/device:CPU:0'"
            ],
            "application/vnd.google.colaboratory.intrinsic+json": {
              "type": "string"
            }
          },
          "metadata": {},
          "execution_count": 46
        }
      ]
    },
    {
      "cell_type": "markdown",
      "source": [
        "**5.6.2.1. Storage on the GPU**"
      ],
      "metadata": {
        "id": "YnKpp00qs45z"
      }
    },
    {
      "cell_type": "code",
      "source": [
        "with try_gpu():\n",
        "    X = tf.ones((2, 3))\n",
        "X"
      ],
      "metadata": {
        "id": "aCJq_esVtCM7",
        "colab": {
          "base_uri": "https://localhost:8080/"
        },
        "outputId": "66647188-6411-435b-9854-bd8cb68bb3bb"
      },
      "execution_count": 47,
      "outputs": [
        {
          "output_type": "execute_result",
          "data": {
            "text/plain": [
              "<tf.Tensor: shape=(2, 3), dtype=float32, numpy=\n",
              "array([[1., 1., 1.],\n",
              "       [1., 1., 1.]], dtype=float32)>"
            ]
          },
          "metadata": {},
          "execution_count": 47
        }
      ]
    },
    {
      "cell_type": "code",
      "source": [
        "with try_gpu(1):\n",
        "    Y = tf.random.uniform((2, 3))\n",
        "Y"
      ],
      "metadata": {
        "id": "JaBBXhG_tDnG",
        "colab": {
          "base_uri": "https://localhost:8080/"
        },
        "outputId": "68d7c49b-1ebe-47fa-c565-56076fe95e50"
      },
      "execution_count": 48,
      "outputs": [
        {
          "output_type": "execute_result",
          "data": {
            "text/plain": [
              "<tf.Tensor: shape=(2, 3), dtype=float32, numpy=\n",
              "array([[0.36515582, 0.17878664, 0.0017612 ],\n",
              "       [0.42501247, 0.1452688 , 0.30965602]], dtype=float32)>"
            ]
          },
          "metadata": {},
          "execution_count": 48
        }
      ]
    },
    {
      "cell_type": "markdown",
      "source": [
        "**5.6.2.2. Copying**"
      ],
      "metadata": {
        "id": "nuwbuA9Cs99T"
      }
    },
    {
      "cell_type": "code",
      "source": [
        "with try_gpu(1):\n",
        "    Z = X\n",
        "print(X)\n",
        "print(Z)"
      ],
      "metadata": {
        "id": "EyGcIB-3tFVx",
        "colab": {
          "base_uri": "https://localhost:8080/"
        },
        "outputId": "5ae4ee12-0b24-4e0a-fa91-71807dff39f0"
      },
      "execution_count": 49,
      "outputs": [
        {
          "output_type": "stream",
          "name": "stdout",
          "text": [
            "tf.Tensor(\n",
            "[[1. 1. 1.]\n",
            " [1. 1. 1.]], shape=(2, 3), dtype=float32)\n",
            "tf.Tensor(\n",
            "[[1. 1. 1.]\n",
            " [1. 1. 1.]], shape=(2, 3), dtype=float32)\n"
          ]
        }
      ]
    },
    {
      "cell_type": "code",
      "source": [
        "Y + Z"
      ],
      "metadata": {
        "id": "mJsNeLomtGru",
        "colab": {
          "base_uri": "https://localhost:8080/"
        },
        "outputId": "8bbae12d-6063-4425-f598-1d08405e4ef7"
      },
      "execution_count": 50,
      "outputs": [
        {
          "output_type": "execute_result",
          "data": {
            "text/plain": [
              "<tf.Tensor: shape=(2, 3), dtype=float32, numpy=\n",
              "array([[1.3651558, 1.1787866, 1.0017612],\n",
              "       [1.4250125, 1.1452688, 1.309656 ]], dtype=float32)>"
            ]
          },
          "metadata": {},
          "execution_count": 50
        }
      ]
    },
    {
      "cell_type": "code",
      "source": [
        "with try_gpu(1):\n",
        "    Z2 = Z\n",
        "Z2 is Z"
      ],
      "metadata": {
        "id": "aCvv0ZrJtIX5",
        "colab": {
          "base_uri": "https://localhost:8080/"
        },
        "outputId": "15a03616-73ae-4a0e-dfdc-4b230f011ba9"
      },
      "execution_count": 51,
      "outputs": [
        {
          "output_type": "execute_result",
          "data": {
            "text/plain": [
              "True"
            ]
          },
          "metadata": {},
          "execution_count": 51
        }
      ]
    },
    {
      "cell_type": "markdown",
      "source": [
        "### **5.6.3. Neural Networks and GPUs**"
      ],
      "metadata": {
        "id": "Q4bI1KgPrlhl"
      }
    },
    {
      "cell_type": "code",
      "execution_count": 52,
      "metadata": {
        "id": "JvaToJR_fVtj",
        "colab": {
          "base_uri": "https://localhost:8080/"
        },
        "outputId": "5ec2f5fa-f81d-4772-fd8a-5f768ad4cc97"
      },
      "outputs": [
        {
          "output_type": "stream",
          "name": "stdout",
          "text": [
            "WARNING:tensorflow:There are non-GPU devices in `tf.distribute.Strategy`, not using nccl allreduce.\n",
            "INFO:tensorflow:Using MirroredStrategy with devices ('/job:localhost/replica:0/task:0/device:CPU:0',)\n"
          ]
        }
      ],
      "source": [
        "strategy = tf.distribute.MirroredStrategy()\n",
        "with strategy.scope():\n",
        "    net = tf.keras.models.Sequential([\n",
        "        tf.keras.layers.Dense(1)])"
      ]
    },
    {
      "cell_type": "code",
      "source": [
        "net(X)"
      ],
      "metadata": {
        "id": "WKTismIjtPW5",
        "colab": {
          "base_uri": "https://localhost:8080/"
        },
        "outputId": "60bcaa0a-faae-4466-be3b-d816ebe65bb4"
      },
      "execution_count": 53,
      "outputs": [
        {
          "output_type": "execute_result",
          "data": {
            "text/plain": [
              "<tf.Tensor: shape=(2, 1), dtype=float32, numpy=\n",
              "array([[-1.132022],\n",
              "       [-1.132022]], dtype=float32)>"
            ]
          },
          "metadata": {},
          "execution_count": 53
        }
      ]
    },
    {
      "cell_type": "code",
      "source": [
        "net.layers[0].weights[0].device, net.layers[0].weights[1].device"
      ],
      "metadata": {
        "id": "IAbnY4WttQmA",
        "colab": {
          "base_uri": "https://localhost:8080/"
        },
        "outputId": "bea33abe-3f11-44f7-9953-d74044a78a56"
      },
      "execution_count": 54,
      "outputs": [
        {
          "output_type": "execute_result",
          "data": {
            "text/plain": [
              "('/job:localhost/replica:0/task:0/device:CPU:0',\n",
              " '/job:localhost/replica:0/task:0/device:CPU:0')"
            ]
          },
          "metadata": {},
          "execution_count": 54
        }
      ]
    }
  ]
}